{
 "cells": [
  {
   "cell_type": "code",
   "execution_count": 9,
   "id": "ae74614d",
   "metadata": {},
   "outputs": [
    {
     "name": "stdout",
     "output_type": "stream",
     "text": [
      "[1, 2, 3, 3, 5, 6, 6, 8, 9]\n"
     ]
    }
   ],
   "source": [
    "def partition(input_list,low,high):\n",
    "    i = (low - 1)\n",
    "    item = input_list[high]\n",
    "    for j in range(low, high):\n",
    "        if input_list[j] <= item:\n",
    "            i = i + 1\n",
    "            input_list[i], input_list[j] =  input_list[j], input_list[i]\n",
    "    input_list[i+1],input_list[high] = input_list[high],input_list[i+1]\n",
    "    return (i+1)\n",
    "\n",
    "def quickSort(input_list, low, high):\n",
    "    if low < high:\n",
    "        partition_index = partition(input_list,low,high)\n",
    "        quickSort(input_list, low, partition_index - 1)\n",
    "        quickSort(input_list, partition_index + 1, high)\n",
    "        \n",
    "        \n",
    "        \n",
    "input_l = [9, 3, 5, 2, 6, 8, 6, 1, 3]\n",
    "list_length = len(input_l)\n",
    "quickSort(input_l, 0, list_length -1)\n",
    "\n",
    "print(input_l)"
   ]
  },
  {
   "cell_type": "code",
   "execution_count": null,
   "id": "c8401bfb",
   "metadata": {},
   "outputs": [],
   "source": []
  }
 ],
 "metadata": {
  "kernelspec": {
   "display_name": "Python 3 (ipykernel)",
   "language": "python",
   "name": "python3"
  },
  "language_info": {
   "codemirror_mode": {
    "name": "ipython",
    "version": 3
   },
   "file_extension": ".py",
   "mimetype": "text/x-python",
   "name": "python",
   "nbconvert_exporter": "python",
   "pygments_lexer": "ipython3",
   "version": "3.9.13"
  }
 },
 "nbformat": 4,
 "nbformat_minor": 5
}
